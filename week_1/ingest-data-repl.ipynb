{
 "cells": [
  {
   "cell_type": "code",
   "execution_count": null,
   "metadata": {},
   "outputs": [],
   "source": [
    "import os\n",
    "import argparse\n",
    "from time import time\n",
    "import pandas as pd\n",
    "from sqlalchemy import create_engine\n",
    "\n",
    "user = \"root\"\n",
    "password = \"root\"\n",
    "host = \"localhost\"\n",
    "port = 5432 \n",
    "db = \"ny_taxi\"\n",
    "table_name = \"yellow_taxi_trips\"\n",
    "url = \"https://github.com/DataTalksClub/nyc-tlc-data/releases/download/green/green_tripdata_2019-09.csv.gz\"\n",
    "csv_name = 'output.csv.gz'\n",
    "\n",
    "os.system(f\"wget {url} -O {csv_name}\")\n",
    "engine = create_engine(f'postgresql://{user}:{password}@{host}:{port}/{db}')\n",
    "df_iter = pd.read_csv(csv_name, iterator=True, chunksize=100000)\n",
    "df = next(df_iter)\n",
    "df.lpep_pickup_datetime = pd.to_datetime(df.lpep_pickup_datetime)\n",
    "df.lpep_dropoff_datetime = pd.to_datetime(df.lpep_dropoff_datetime)\n",
    "df.head(n=0).to_sql(name=table_name, con=engine, if_exists='replace')\n",
    "df.to_sql(name=table_name, con=engine, if_exists='append')\n"
   ]
  }
 ],
 "metadata": {
  "language_info": {
   "name": "python"
  }
 },
 "nbformat": 4,
 "nbformat_minor": 2
}
